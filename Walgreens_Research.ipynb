{
  "nbformat": 4,
  "nbformat_minor": 0,
  "metadata": {
    "colab": {
      "provenance": [],
      "authorship_tag": "ABX9TyMB5F80EEiOwwAhTyaYUu/8",
      "include_colab_link": true
    },
    "kernelspec": {
      "name": "python3",
      "display_name": "Python 3"
    },
    "language_info": {
      "name": "python"
    }
  },
  "cells": [
    {
      "cell_type": "markdown",
      "metadata": {
        "id": "view-in-github",
        "colab_type": "text"
      },
      "source": [
        "<a href=\"https://colab.research.google.com/github/wbfrench1/stock/blob/main/Walgreens_Research.ipynb\" target=\"_parent\"><img src=\"https://colab.research.google.com/assets/colab-badge.svg\" alt=\"Open In Colab\"/></a>"
      ]
    },
    {
      "cell_type": "markdown",
      "source": [
        "1. Get basic stock data\n",
        "1. Visualize stock price\n",
        "1. Visualize dividend payments\n",
        "1. Change Drivers\n",
        "    1. Cause for Stock High\n",
        "    1. Cause for Stock Low\n",
        "1. Identify Competitors\n",
        "    1. Look at competitor metrics\n",
        "    1. Porters Competitive Model\n",
        "    1. Strength/weakness"
      ],
      "metadata": {
        "id": "Y8WJngrCbH8e"
      }
    },
    {
      "cell_type": "code",
      "source": [],
      "metadata": {
        "id": "ehRFlZ8ecKbN"
      },
      "execution_count": null,
      "outputs": []
    }
  ]
}